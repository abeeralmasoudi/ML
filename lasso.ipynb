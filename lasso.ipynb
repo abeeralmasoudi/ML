{
 "cells": [
  {
   "cell_type": "code",
   "execution_count": 19,
   "id": "6bd22b93",
   "metadata": {},
   "outputs": [
    {
     "data": {
      "text/plain": [
       "array([27587.30948833, 18490.3228902 , 18535.08679134, 20072.4125485 ,\n",
       "       24099.420801  ])"
      ]
     },
     "execution_count": 19,
     "metadata": {},
     "output_type": "execute_result"
    }
   ],
   "source": [
    "import matplotlib.pyplot as plt\n",
    "import pandas as pd\n",
    "import numpy as np\n",
    "import seaborn as sns\n",
    "import matplotlib.pyplot as plt \n",
    "import statsmodels.api as sm\n",
    "from statsmodels.formula.api import ols\n",
    "from sklearn.preprocessing import LabelEncoder\n",
    "from sklearn.linear_model import Lasso, LassoCV\n",
    "from sklearn.metrics import mean_squared_error,r2_score\n",
    "#read data\n",
    "\n",
    "data = pd.read_csv('D:\\\\ML project\\\\Used cars in KSA.csv')\n",
    "var = 'car_model_year'\n",
    "datax = pd.concat([data['car_price'],data[var]],axis = 1)\n",
    "data1=data[data['car_price']<4e4].reset_index(drop=True)\n",
    "Q1 = data1.car_model_year.quantile(0.25)\n",
    "Q3 = data1.car_model_year.quantile(0.75)\n",
    "Q1,Q3\n",
    "IQR = Q3 - Q1 \n",
    "IQR\n",
    "lower_limit = Q1 - 1.5 * IQR\n",
    "upper_limit = Q3 + 1.5 * IQR\n",
    "lower_limit , upper_limit\n",
    "no_out =data1 [(data1.car_model_year>lower_limit) & (data1.car_model_year<upper_limit)]\n",
    "no_out\n",
    "\n",
    "Q1 = no_out.car_driven.quantile(0.25)\n",
    "Q3 = no_out.car_driven.quantile(0.75)\n",
    "Q1,Q3\n",
    "IQR = Q3 - Q1 \n",
    "IQR\n",
    "lower_limit = Q1 - 1.5 * IQR\n",
    "upper_limit = Q3 + 1.5 * IQR\n",
    "lower_limit , upper_limit\n",
    "newdata=no_out[(no_out.car_driven>lower_limit) & (no_out.car_driven<upper_limit)]\n",
    "x = newdata.iloc[:,[0,1,2,3,4]].values\n",
    "y = newdata.iloc[:,[5]].values\n",
    "le1=LabelEncoder()\n",
    "x[:,0] =le1.fit_transform(x[:,0])\n",
    "le2=LabelEncoder()\n",
    "x[:,1] =le1.fit_transform(x[:,1])\n",
    "from sklearn.preprocessing import OneHotEncoder\n",
    "from sklearn.compose import ColumnTransformer\n",
    "ct = ColumnTransformer(transformers=[('encoder', OneHotEncoder(),[3])],remainder='passthrough')#this one is for count every value repatedly not only 3 uniq\n",
    "x=ct.fit_transform(x)\n",
    "from sklearn.preprocessing import StandardScaler\n",
    "sc = StandardScaler()\n",
    "x=sc.fit_transform(x)\n",
    "from sklearn.model_selection import train_test_split\n",
    "(x_train,x_test,y_train,y_test) = train_test_split(x,y,test_size = 0.3,random_state=0)\n",
    "#set lasso model on train set\n",
    "lasso_model = Lasso().fit(x_train,y_train)\n",
    "#lasso regression model constant\n",
    "lasso_model.intercept_\n",
    "lasso = Lasso()\n",
    "coefs = []\n",
    "alphas = np.random.randint(0,1000,100)\n",
    "for a in alphas:\n",
    "   lasso.set_params(alpha = a)\n",
    "   lasso.fit(x_train,y_train)\n",
    "   coefs.append(lasso.coef_)\n",
    "lasso_model.predict(x_train)[:5]\n"
   ]
  },
  {
   "cell_type": "code",
   "execution_count": 3,
   "id": "0ad8c2e2",
   "metadata": {},
   "outputs": [
    {
     "data": {
      "text/plain": [
       "7581.514706891806"
      ]
     },
     "execution_count": 3,
     "metadata": {},
     "output_type": "execute_result"
    }
   ],
   "source": [
    "from sklearn.metrics import mean_squared_error,r2_score\n",
    "y_pred = lasso_model.predict(x_test)\n",
    "np.sqrt(mean_squared_error(y_test,y_pred))from yellowbrick.regressor import ResidualsPlot"
   ]
  },
  {
   "cell_type": "code",
   "execution_count": 10,
   "id": "61df4dcd",
   "metadata": {},
   "outputs": [
    {
     "data": {
      "text/plain": [
       "0.20514124326383598"
      ]
     },
     "execution_count": 10,
     "metadata": {},
     "output_type": "execute_result"
    }
   ],
   "source": [
    "r2_score(y_test, y_pred)"
   ]
  },
  {
   "cell_type": "code",
   "execution_count": 20,
   "id": "9b88fff3",
   "metadata": {},
   "outputs": [
    {
     "name": "stderr",
     "output_type": "stream",
     "text": [
      "C:\\Users\\mahdi\\anaconda3\\lib\\site-packages\\sklearn\\utils\\validation.py:63: DataConversionWarning: A column-vector y was passed when a 1d array was expected. Please change the shape of y to (n_samples, ), for example using ravel().\n",
      "  return f(*args, **kwargs)\n"
     ]
    },
    {
     "data": {
      "text/plain": [
       "121"
      ]
     },
     "execution_count": 20,
     "metadata": {},
     "output_type": "execute_result"
    }
   ],
   "source": [
    "lasso_cv_model = LassoCV(alphas = np.random.randint(0,1000,100), cv = 10, max_iter = 100000).fit(x_train,y_train)\n",
    "lasso_cv_model.alpha_"
   ]
  },
  {
   "cell_type": "code",
   "execution_count": 22,
   "id": "c51a0a6e",
   "metadata": {},
   "outputs": [
    {
     "data": {
      "text/plain": [
       "7559.547728038095"
      ]
     },
     "execution_count": 22,
     "metadata": {},
     "output_type": "execute_result"
    }
   ],
   "source": [
    "lasso_tuned = Lasso().set_params(alpha = lasso_cv_model.alpha_).fit(x_train,y_train)\n",
    "y_pred_tuned = lasso_tuned.predict(x_test)\n",
    "np.sqrt(mean_squared_error(y_test,y_pred_tuned))"
   ]
  },
  {
   "cell_type": "code",
   "execution_count": 23,
   "id": "661029f6",
   "metadata": {},
   "outputs": [
    {
     "data": {
      "text/plain": [
       "0.2097406803405999"
      ]
     },
     "execution_count": 23,
     "metadata": {},
     "output_type": "execute_result"
    }
   ],
   "source": [
    "r2_score(y_test, y_pred_tuned)"
   ]
  },
  {
   "cell_type": "code",
   "execution_count": null,
   "id": "45cff388",
   "metadata": {},
   "outputs": [],
   "source": []
  }
 ],
 "metadata": {
  "kernelspec": {
   "display_name": "Python 3",
   "language": "python",
   "name": "python3"
  },
  "language_info": {
   "codemirror_mode": {
    "name": "ipython",
    "version": 3
   },
   "file_extension": ".py",
   "mimetype": "text/x-python",
   "name": "python",
   "nbconvert_exporter": "python",
   "pygments_lexer": "ipython3",
   "version": "3.8.8"
  }
 },
 "nbformat": 4,
 "nbformat_minor": 5
}
