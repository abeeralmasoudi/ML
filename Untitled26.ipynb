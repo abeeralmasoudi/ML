{
 "cells": [
  {
   "cell_type": "code",
   "execution_count": 103,
   "id": "7630a66a",
   "metadata": {},
   "outputs": [],
   "source": [
    "import matplotlib.pyplot as plt\n",
    "import pandas as pd\n",
    "import numpy as np\n",
    "import seaborn as sns\n",
    "import matplotlib.pyplot as plt \n",
    "import statsmodels.api as sm\n",
    "from statsmodels.formula.api import ols\n",
    "from sklearn.preprocessing import LabelEncoder\n",
    "from sklearn.preprocessing import PolynomialFeatures\n",
    "from sklearn.pipeline import Pipeline, make_pipeline\n",
    "from sklearn.linear_model import Lasso, LassoCV, LinearRegression, Ridge\n",
    "from sklearn.metrics import mean_squared_error,r2_score\n",
    "import warnings\n",
    "warnings.filterwarnings(\"ignore\")\n",
    "\n",
    "#read data\n",
    "\n",
    "data = pd.read_csv('D:\\\\ML project\\\\Used cars in KSA.csv')\n",
    "var = 'car_model_year'\n",
    "datax = pd.concat([data['car_price'],data[var]],axis = 1)\n",
    "data1=data[data['car_price']<4e4].reset_index(drop=True)\n",
    "Q1 = data1.car_model_year.quantile(0.25)\n",
    "Q3 = data1.car_model_year.quantile(0.75)\n",
    "Q1,Q3\n",
    "IQR = Q3 - Q1 \n",
    "IQR\n",
    "lower_limit = Q1 - 1.5 * IQR\n",
    "upper_limit = Q3 + 1.5 * IQR\n",
    "lower_limit , upper_limit\n",
    "no_out =data1 [(data1.car_model_year>lower_limit) & (data1.car_model_year<upper_limit)]\n",
    "no_out\n",
    "\n",
    "Q1 = no_out.car_driven.quantile(0.25)\n",
    "Q3 = no_out.car_driven.quantile(0.75)\n",
    "Q1,Q3\n",
    "IQR = Q3 - Q1 \n",
    "IQR\n",
    "lower_limit = Q1 - 1.5 * IQR\n",
    "upper_limit = Q3 + 1.5 * IQR\n",
    "lower_limit , upper_limit\n",
    "newdata=no_out[(no_out.car_driven>lower_limit) & (no_out.car_driven<upper_limit)]\n",
    "Q1 = newdata.car_price.quantile(0.25)\n",
    "Q3 = newdata.car_price.quantile(0.75)\n",
    "Q1,Q3\n",
    "IQR = Q3 - Q1\n",
    "lower_limit = Q1 - 1.5 * IQR\n",
    "upper_limit = Q3 + 1.5 * IQR\n",
    "fdata =newdata [(newdata.car_price>lower_limit) & (newdata.car_price<upper_limit)]\n",
    "\n",
    "x = fdata.iloc[:,[0,1,2,3,4]].values\n",
    "y = fdata.iloc[:,[5]].values\n",
    "le1=LabelEncoder()\n",
    "x[:,0] =le1.fit_transform(x[:,0])\n",
    "le2=LabelEncoder()\n",
    "x[:,1] =le2.fit_transform(x[:,1])\n",
    "from sklearn.preprocessing import OneHotEncoder\n",
    "from sklearn.compose import ColumnTransformer\n",
    "ct = ColumnTransformer(transformers=[('encoder', OneHotEncoder(),[3])],remainder='passthrough')#this one is for count every value repatedly not only 3 uniq\n",
    "x=ct.fit_transform(x)\n",
    "from sklearn.preprocessing import StandardScaler\n",
    "sc = StandardScaler()\n",
    "x=sc.fit_transform(x)\n",
    "# encoding \"Fuel_Type\" Column\n",
    "fdata.replace({'car_transmission':{'Manual':0,'Automatic':1,'CVT':2}},inplace=True)"
   ]
  },
  {
   "cell_type": "code",
   "execution_count": 104,
   "id": "ee1a3a9f",
   "metadata": {},
   "outputs": [
    {
     "data": {
      "text/plain": [
       "0.21006290437610065"
      ]
     },
     "execution_count": 104,
     "metadata": {},
     "output_type": "execute_result"
    }
   ],
   "source": [
    "#splitting data into train and test \n",
    "from sklearn.model_selection import train_test_split\n",
    "(x_train,x_test,y_train,y_test) = train_test_split(x,y,test_size = 0.3,random_state=0)\n",
    "#lasso regression model \n",
    "lasso = Lasso()\n",
    "alphas = np.random.randint(0,1000,100)\n",
    "for a in alphas:\n",
    " lasso.set_params(alpha = a)\n",
    " lasso.fit(x_train,y_train)\n",
    "lasso.predict(x_train)[:5]\n",
    "y_pred = lasso.predict(x_test)\n",
    "r2_score(y_test, y_pred)\n",
    "lasso_cv_model = LassoCV(alphas = np.random.randint(0,1000,100), cv = 10, max_iter = 100000).fit(x_train,y_train)\n",
    "lasso_cv_model.alpha_\n",
    "lasso_tuned = Lasso().set_params(alpha = lasso_cv_model.alpha_).fit(x_train,y_train)\n",
    "y_pred_tuned = lasso_tuned.predict(x_test)\n",
    "r2_score(y_test, y_pred_tuned)\n"
   ]
  },
  {
   "cell_type": "code",
   "execution_count": 105,
   "id": "5c32b0e8",
   "metadata": {},
   "outputs": [
    {
     "data": {
      "text/plain": [
       "0.2646737070828088"
      ]
     },
     "execution_count": 105,
     "metadata": {},
     "output_type": "execute_result"
    }
   ],
   "source": [
    "#polynomial linear regression\n",
    "poly = PolynomialFeatures(degree=2)\n",
    "x_train_poly = poly.fit_transform(x_train)\n",
    "lr = LinearRegression()\n",
    "lr.fit(x_train_poly, y_train)\n",
    "x_test_poly = poly.fit_transform(x_test)\n",
    "y_pred3 = lr.predict(x_test_poly)\n",
    "r2_score(y_test, y_pred3)"
   ]
  },
  {
   "cell_type": "code",
   "execution_count": 106,
   "id": "4c29486c",
   "metadata": {},
   "outputs": [
    {
     "data": {
      "text/plain": [
       "0.26553423228428785"
      ]
     },
     "execution_count": 106,
     "metadata": {},
     "output_type": "execute_result"
    }
   ],
   "source": [
    "#Regularization of polynomial regression\n",
    "ridge = Ridge()\n",
    "ridge.fit(x_train_poly, y_train)\n",
    "y_pred4=ridge.predict(x_test_poly)\n",
    "r2_score(y_test, y_pred4)"
   ]
  },
  {
   "cell_type": "code",
   "execution_count": null,
   "id": "a5b59bb9",
   "metadata": {},
   "outputs": [],
   "source": [
    "\n",
    "\n"
   ]
  },
  {
   "cell_type": "code",
   "execution_count": null,
   "id": "1bf15bb9",
   "metadata": {},
   "outputs": [],
   "source": []
  },
  {
   "cell_type": "code",
   "execution_count": 107,
   "id": "fa91f83b",
   "metadata": {},
   "outputs": [],
   "source": [
    "from lightgbm import LGBMRegressor\n",
    "# Create model and train\n",
    "def models_score(models,x_train,x_test,y_train,y_test):\n",
    "    scores = {}\n",
    "    \n",
    "    for name, model in models.items():\n",
    "        model.fit(x_train,y_train)\n",
    "        y_pred = model.predict(x_test)\n",
    "        scores[name] = r2_score(y_test,y_pred)\n",
    "        \n",
    "        # printing the model name and accuracy\n",
    "        print(\"Model name: \",model)\n",
    "        print(\"R2 score : \",r2_score(y_test,y_pred))\n",
    "    \n",
    "     \n",
    "\n",
    "        print(\"\\n<<<<------------------------------------------------------------->>>>\\n\")\n",
    "        \n",
    "    model_scores = pd.DataFrame(scores, index=['R2 Score']).T\n",
    "    model_scores = model_scores.sort_values('R2 Score',ascending=False)\n",
    "    return model_scores"
   ]
  },
  {
   "cell_type": "code",
   "execution_count": 174,
   "id": "b3e3567f",
   "metadata": {},
   "outputs": [],
   "source": [
    "# Initialize the models\n",
    "np.random.seed(42)\n",
    "models = {\"CatBoost\":CatBoostRegressor(verbose=0, l2_leaf_reg=0.99),\n",
    "         \"LightGBM\":LGBMRegressor(reg_lambda=0.99)}"
   ]
  },
  {
   "cell_type": "code",
   "execution_count": 175,
   "id": "7ac384af",
   "metadata": {},
   "outputs": [
    {
     "name": "stdout",
     "output_type": "stream",
     "text": [
      "Model name:  <catboost.core.CatBoostRegressor object at 0x0000024707EA6CA0>\n",
      "R2 score :  0.5608543494252087\n",
      "\n",
      "<<<<------------------------------------------------------------->>>>\n",
      "\n",
      "Model name:  LGBMRegressor(reg_lambda=0.999)\n",
      "R2 score :  0.5151557051520294\n",
      "\n",
      "<<<<------------------------------------------------------------->>>>\n",
      "\n"
     ]
    },
    {
     "data": {
      "text/html": [
       "<div>\n",
       "<style scoped>\n",
       "    .dataframe tbody tr th:only-of-type {\n",
       "        vertical-align: middle;\n",
       "    }\n",
       "\n",
       "    .dataframe tbody tr th {\n",
       "        vertical-align: top;\n",
       "    }\n",
       "\n",
       "    .dataframe thead th {\n",
       "        text-align: right;\n",
       "    }\n",
       "</style>\n",
       "<table border=\"1\" class=\"dataframe\">\n",
       "  <thead>\n",
       "    <tr style=\"text-align: right;\">\n",
       "      <th></th>\n",
       "      <th>R2 Score</th>\n",
       "    </tr>\n",
       "  </thead>\n",
       "  <tbody>\n",
       "    <tr>\n",
       "      <th>CatBoost</th>\n",
       "      <td>0.560854</td>\n",
       "    </tr>\n",
       "    <tr>\n",
       "      <th>LightGBM</th>\n",
       "      <td>0.515156</td>\n",
       "    </tr>\n",
       "  </tbody>\n",
       "</table>\n",
       "</div>"
      ],
      "text/plain": [
       "          R2 Score\n",
       "CatBoost  0.560854\n",
       "LightGBM  0.515156"
      ]
     },
     "execution_count": 175,
     "metadata": {},
     "output_type": "execute_result"
    }
   ],
   "source": [
    "model_scores = models_score(models,x_train,x_test,y_train,y_test)\n",
    "model_scores"
   ]
  },
  {
   "cell_type": "code",
   "execution_count": null,
   "id": "6ab3d8f5",
   "metadata": {},
   "outputs": [],
   "source": []
  },
  {
   "cell_type": "code",
   "execution_count": null,
   "id": "fd998052",
   "metadata": {},
   "outputs": [],
   "source": []
  },
  {
   "cell_type": "code",
   "execution_count": null,
   "id": "5468ae43",
   "metadata": {},
   "outputs": [],
   "source": []
  },
  {
   "cell_type": "code",
   "execution_count": null,
   "id": "97278e9a",
   "metadata": {},
   "outputs": [],
   "source": []
  },
  {
   "cell_type": "code",
   "execution_count": null,
   "id": "6ff348d1",
   "metadata": {},
   "outputs": [],
   "source": []
  },
  {
   "cell_type": "code",
   "execution_count": null,
   "id": "8dd71485",
   "metadata": {},
   "outputs": [],
   "source": []
  },
  {
   "cell_type": "code",
   "execution_count": null,
   "id": "e9a31015",
   "metadata": {},
   "outputs": [],
   "source": []
  }
 ],
 "metadata": {
  "kernelspec": {
   "display_name": "Python 3",
   "language": "python",
   "name": "python3"
  },
  "language_info": {
   "codemirror_mode": {
    "name": "ipython",
    "version": 3
   },
   "file_extension": ".py",
   "mimetype": "text/x-python",
   "name": "python",
   "nbconvert_exporter": "python",
   "pygments_lexer": "ipython3",
   "version": "3.8.8"
  }
 },
 "nbformat": 4,
 "nbformat_minor": 5
}
